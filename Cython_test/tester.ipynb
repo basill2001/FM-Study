{
 "cells": [
  {
   "cell_type": "code",
   "execution_count": 1,
   "metadata": {},
   "outputs": [],
   "source": [
    "import basic_python\n",
    "import basic_cython\n",
    "import time"
   ]
  },
  {
   "cell_type": "markdown",
   "metadata": {},
   "source": [
    "$10000^{1000000}$"
   ]
  },
  {
   "cell_type": "code",
   "execution_count": 20,
   "metadata": {},
   "outputs": [],
   "source": [
    "n = 10000^1000000"
   ]
  },
  {
   "cell_type": "code",
   "execution_count": 22,
   "metadata": {},
   "outputs": [
    {
     "name": "stdout",
     "output_type": "stream",
     "text": [
      "python_time : 1376.7674906253815\n"
     ]
    }
   ],
   "source": [
    "start = time.time()\n",
    "basic_python.test(n)\n",
    "end = time.time()\n",
    "\n",
    "python_time = end - start\n",
    "print(\"python_time :\", python_time)"
   ]
  },
  {
   "cell_type": "code",
   "execution_count": 23,
   "metadata": {},
   "outputs": [
    {
     "name": "stdout",
     "output_type": "stream",
     "text": [
      "cython_time : 0.0071675777435302734\n"
     ]
    }
   ],
   "source": [
    "start = time.time()\n",
    "basic_cython.test(n)\n",
    "end = time.time()\n",
    "\n",
    "cython_time = end - start\n",
    "print(\"cython_time :\", cython_time)"
   ]
  },
  {
   "cell_type": "code",
   "execution_count": 24,
   "metadata": {},
   "outputs": [
    {
     "name": "stdout",
     "output_type": "stream",
     "text": [
      "192082.67282041046\n"
     ]
    }
   ],
   "source": [
    "print(python_time/cython_time)"
   ]
  }
 ],
 "metadata": {
  "kernelspec": {
   "display_name": "Python 3",
   "language": "python",
   "name": "python3"
  },
  "language_info": {
   "codemirror_mode": {
    "name": "ipython",
    "version": 3
   },
   "file_extension": ".py",
   "mimetype": "text/x-python",
   "name": "python",
   "nbconvert_exporter": "python",
   "pygments_lexer": "ipython3",
   "version": "3.12.0"
  }
 },
 "nbformat": 4,
 "nbformat_minor": 2
}
