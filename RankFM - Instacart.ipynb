{
 "cells": [
  {
   "cell_type": "code",
   "execution_count": 2,
   "metadata": {},
   "outputs": [],
   "source": [
    "import numpy as np\n",
    "import pandas as pd\n",
    "import matplotlib.pyplot as plt\n",
    "import seaborn as sns"
   ]
  },
  {
   "cell_type": "code",
   "execution_count": 5,
   "metadata": {},
   "outputs": [],
   "source": [
    "from rankfm.rankfm import RankFM\n",
    "from rankfm.evaluation import hit_rate, reciprocal_rank, discounted_cumulative_gain, precision, recall, diversity"
   ]
  },
  {
   "cell_type": "code",
   "execution_count": 24,
   "metadata": {},
   "outputs": [],
   "source": [
    "# getting data\n",
    "interaction_train = pd.read_csv(\"C:/Users/HOME/문서/한양대/3-2/산업공학연구실현장실습2/datas/Instacart/interactions_train.csv\",index_col=0)\n",
    "interaction_valid = pd.read_csv(\"C:/Users/HOME/문서/한양대/3-2/산업공학연구실현장실습2/datas/Instacart/interactions_valid.csv\",index_col=0)\n",
    "sample_weight_train = pd.Series.from_csv(\"C:/Users/HOME/문서/한양대/3-2/산업공학연구실현장실습2/datas/Instacart/sample_weight_train.csv\",index_col=0)\n",
    "sample_weight_valid = pd.Series.from_csv(\"C:/Users/HOME/문서/한양대/3-2/산업공학연구실현장실습2/datas/Instacart/sample_weight_valid.csv\",index_col=0)"
   ]
  },
  {
   "cell_type": "code",
   "execution_count": 25,
   "metadata": {},
   "outputs": [],
   "source": [
    "# sample_weight_train = sample_weight_train['orders']\n",
    "# sample_weight_valid = sample_weight_valid['orders']"
   ]
  },
  {
   "cell_type": "markdown",
   "metadata": {},
   "source": [
    "##### Initialize the model"
   ]
  },
  {
   "cell_type": "code",
   "execution_count": 26,
   "metadata": {},
   "outputs": [],
   "source": [
    "model = RankFM(factors=50, loss='warp', max_samples=50, alpha=0.01, learning_rate=0.1, learning_schedule='invscaling')"
   ]
  },
  {
   "cell_type": "markdown",
   "metadata": {},
   "source": [
    "##### Fit the model"
   ]
  },
  {
   "cell_type": "code",
   "execution_count": 27,
   "metadata": {},
   "outputs": [
    {
     "name": "stdout",
     "output_type": "stream",
     "text": [
      "\n",
      "training epoch: 0\n",
      "log likelihood: -278375.625\n",
      "\n",
      "training epoch: 1\n",
      "log likelihood: -272229.53125\n",
      "\n",
      "training epoch: 2\n",
      "log likelihood: -263574.1875\n",
      "\n",
      "training epoch: 3\n",
      "log likelihood: -256180.109375\n",
      "\n",
      "training epoch: 4\n",
      "log likelihood: -248548.75\n",
      "\n",
      "training epoch: 5\n",
      "log likelihood: -242395.921875\n",
      "\n",
      "training epoch: 6\n",
      "log likelihood: -237254.828125\n",
      "\n",
      "training epoch: 7\n",
      "log likelihood: -233736.40625\n",
      "\n",
      "training epoch: 8\n",
      "log likelihood: -231136.0625\n",
      "\n",
      "training epoch: 9\n",
      "log likelihood: -228616.3125\n",
      "\n",
      "training epoch: 10\n",
      "log likelihood: -226942.421875\n",
      "\n",
      "training epoch: 11\n",
      "log likelihood: -225422.484375\n",
      "\n",
      "training epoch: 12\n",
      "log likelihood: -223369.171875\n",
      "\n",
      "training epoch: 13\n",
      "log likelihood: -222447.375\n",
      "\n",
      "training epoch: 14\n",
      "log likelihood: -220678.96875\n",
      "\n",
      "training epoch: 15\n",
      "log likelihood: -220290.515625\n",
      "\n",
      "training epoch: 16\n",
      "log likelihood: -218978.734375\n",
      "\n",
      "training epoch: 17\n",
      "log likelihood: -217909.828125\n",
      "\n",
      "training epoch: 18\n",
      "log likelihood: -217328.96875\n",
      "\n",
      "training epoch: 19\n",
      "log likelihood: -216759.59375\n",
      "\n",
      "training epoch: 20\n",
      "log likelihood: -215913.828125\n",
      "\n",
      "training epoch: 21\n",
      "log likelihood: -215121.046875\n",
      "\n",
      "training epoch: 22\n",
      "log likelihood: -214483.828125\n",
      "\n",
      "training epoch: 23\n",
      "log likelihood: -214279.25\n",
      "\n",
      "training epoch: 24\n",
      "log likelihood: -213423.25\n",
      "\n",
      "training epoch: 25\n",
      "log likelihood: -212658.046875\n",
      "\n",
      "training epoch: 26\n",
      "log likelihood: -212925.53125\n",
      "\n",
      "training epoch: 27\n",
      "log likelihood: -211810.65625\n",
      "\n",
      "training epoch: 28\n",
      "log likelihood: -211871.28125\n",
      "\n",
      "training epoch: 29\n",
      "log likelihood: -211347.375\n"
     ]
    }
   ],
   "source": [
    "model.fit(interaction_train, sample_weight=sample_weight_train, epochs=30, verbose=True)"
   ]
  },
  {
   "cell_type": "code",
   "execution_count": 29,
   "metadata": {},
   "outputs": [
    {
     "data": {
      "text/plain": [
       "array([5.7029123 , 4.3384643 , 5.258583  , ..., 2.0875874 , 2.8852053 ,\n",
       "       0.44722572], dtype=float32)"
      ]
     },
     "execution_count": 29,
     "metadata": {},
     "output_type": "execute_result"
    }
   ],
   "source": [
    "scores = model.predict(interaction_valid, cold_start='nan')\n",
    "scores"
   ]
  },
  {
   "cell_type": "markdown",
   "metadata": {},
   "source": [
    "##### Genereate top recommendations"
   ]
  },
  {
   "cell_type": "code",
   "execution_count": 33,
   "metadata": {},
   "outputs": [
    {
     "data": {
      "text/plain": [
       "(10000, 9931, 9931)"
      ]
     },
     "execution_count": 33,
     "metadata": {},
     "output_type": "execute_result"
    }
   ],
   "source": [
    "train_users = pd.Series(interaction_train.user_id.unique())\n",
    "valid_users = pd.Series(interaction_valid.user_id.unique())\n",
    "both_users  = set(train_users)&set(valid_users)\n",
    "\n",
    "len(train_users), len(valid_users), len(both_users)"
   ]
  },
  {
   "cell_type": "code",
   "execution_count": 34,
   "metadata": {},
   "outputs": [
    {
     "data": {
      "text/html": [
       "<div>\n",
       "<style scoped>\n",
       "    .dataframe tbody tr th:only-of-type {\n",
       "        vertical-align: middle;\n",
       "    }\n",
       "\n",
       "    .dataframe tbody tr th {\n",
       "        vertical-align: top;\n",
       "    }\n",
       "\n",
       "    .dataframe thead th {\n",
       "        text-align: right;\n",
       "    }\n",
       "</style>\n",
       "<table border=\"1\" class=\"dataframe\">\n",
       "  <thead>\n",
       "    <tr style=\"text-align: right;\">\n",
       "      <th></th>\n",
       "      <th>0</th>\n",
       "      <th>1</th>\n",
       "      <th>2</th>\n",
       "      <th>3</th>\n",
       "      <th>4</th>\n",
       "      <th>5</th>\n",
       "      <th>6</th>\n",
       "      <th>7</th>\n",
       "      <th>8</th>\n",
       "      <th>9</th>\n",
       "    </tr>\n",
       "  </thead>\n",
       "  <tbody>\n",
       "    <tr>\n",
       "      <th>15</th>\n",
       "      <td>12427</td>\n",
       "      <td>37710</td>\n",
       "      <td>196</td>\n",
       "      <td>31651</td>\n",
       "      <td>11266</td>\n",
       "      <td>38928</td>\n",
       "      <td>46149</td>\n",
       "      <td>6184</td>\n",
       "      <td>13575</td>\n",
       "      <td>11759</td>\n",
       "    </tr>\n",
       "    <tr>\n",
       "      <th>47</th>\n",
       "      <td>15902</td>\n",
       "      <td>24852</td>\n",
       "      <td>43772</td>\n",
       "      <td>16797</td>\n",
       "      <td>28199</td>\n",
       "      <td>27966</td>\n",
       "      <td>27360</td>\n",
       "      <td>48527</td>\n",
       "      <td>21137</td>\n",
       "      <td>26604</td>\n",
       "    </tr>\n",
       "    <tr>\n",
       "      <th>58</th>\n",
       "      <td>39993</td>\n",
       "      <td>46041</td>\n",
       "      <td>24852</td>\n",
       "      <td>27323</td>\n",
       "      <td>5025</td>\n",
       "      <td>23888</td>\n",
       "      <td>23734</td>\n",
       "      <td>34969</td>\n",
       "      <td>7295</td>\n",
       "      <td>4605</td>\n",
       "    </tr>\n",
       "    <tr>\n",
       "      <th>83</th>\n",
       "      <td>21137</td>\n",
       "      <td>24852</td>\n",
       "      <td>13740</td>\n",
       "      <td>4920</td>\n",
       "      <td>27344</td>\n",
       "      <td>13176</td>\n",
       "      <td>16797</td>\n",
       "      <td>44560</td>\n",
       "      <td>28204</td>\n",
       "      <td>27086</td>\n",
       "    </tr>\n",
       "    <tr>\n",
       "      <th>102</th>\n",
       "      <td>24852</td>\n",
       "      <td>47626</td>\n",
       "      <td>47766</td>\n",
       "      <td>21137</td>\n",
       "      <td>13176</td>\n",
       "      <td>49683</td>\n",
       "      <td>26209</td>\n",
       "      <td>4920</td>\n",
       "      <td>42265</td>\n",
       "      <td>47209</td>\n",
       "    </tr>\n",
       "  </tbody>\n",
       "</table>\n",
       "</div>"
      ],
      "text/plain": [
       "         0      1      2      3      4      5      6      7      8      9\n",
       "15   12427  37710    196  31651  11266  38928  46149   6184  13575  11759\n",
       "47   15902  24852  43772  16797  28199  27966  27360  48527  21137  26604\n",
       "58   39993  46041  24852  27323   5025  23888  23734  34969   7295   4605\n",
       "83   21137  24852  13740   4920  27344  13176  16797  44560  28204  27086\n",
       "102  24852  47626  47766  21137  13176  49683  26209   4920  42265  47209"
      ]
     },
     "execution_count": 34,
     "metadata": {},
     "output_type": "execute_result"
    }
   ],
   "source": [
    "valid_recs = model.recommend(valid_users, n_items=10, filter_previous=False, cold_start='nan')\n",
    "valid_recs.head()"
   ]
  },
  {
   "cell_type": "markdown",
   "metadata": {},
   "source": [
    "#### Evaluationg Model"
   ]
  },
  {
   "cell_type": "code",
   "execution_count": 35,
   "metadata": {},
   "outputs": [
    {
     "data": {
      "text/plain": [
       "product_id\n",
       "24852    3332\n",
       "13176    2829\n",
       "21137    2538\n",
       "21903    2450\n",
       "47626    2004\n",
       "26209    1926\n",
       "47209    1878\n",
       "16797    1857\n",
       "47766    1851\n",
       "39275    1495\n",
       "Name: user_id, dtype: int64"
      ]
     },
     "execution_count": 35,
     "metadata": {},
     "output_type": "execute_result"
    }
   ],
   "source": [
    "k = 10\n",
    "most_popular = interaction_train.groupby('product_id')['user_id'].count().sort_values(ascending=False)[:k]\n",
    "most_popular"
   ]
  },
  {
   "cell_type": "code",
   "execution_count": 39,
   "metadata": {},
   "outputs": [],
   "source": [
    "test_user_items = interaction_valid.groupby('user_id')['product_id'].apply(set).to_dict()\n",
    "test_user_items = {key: val for key, val in test_user_items.items() if key in set(train_users)}\n",
    "\n",
    "base_hrt = np.mean([int(len(set(most_popular.index) & set(val)) > 0)                       for key, val in test_user_items.items()])\n",
    "base_pre = np.mean([len(set(most_popular.index) & set(val)) / len(set(most_popular.index)) for key, val in test_user_items.items()])\n",
    "base_rec = np.mean([len(set(most_popular.index) & set(val)) / len(set(val))                for key, val in test_user_items.items()])"
   ]
  },
  {
   "cell_type": "code",
   "execution_count": 40,
   "metadata": {},
   "outputs": [
    {
     "name": "stdout",
     "output_type": "stream",
     "text": [
      "number of test users: 9931\n",
      "baseline hit rate: 0.602\n",
      "baseline precision: 0.132\n",
      "baseline recall: 0.059\n"
     ]
    }
   ],
   "source": [
    "print(\"number of test users: {}\".format(len(test_user_items)))\n",
    "print(\"baseline hit rate: {:.3f}\".format(base_hrt))\n",
    "print(\"baseline precision: {:.3f}\".format(base_pre))\n",
    "print(\"baseline recall: {:.3f}\".format(base_rec))"
   ]
  },
  {
   "cell_type": "markdown",
   "metadata": {},
   "source": [
    "##### Generating model performance validation metrics"
   ]
  },
  {
   "cell_type": "code",
   "execution_count": 42,
   "metadata": {},
   "outputs": [],
   "source": [
    "model_hrt = hit_rate(model, interaction_valid, k=k)\n",
    "model_rnk = reciprocal_rank(model, interaction_valid, k=k)\n",
    "model_pre = precision(model, interaction_valid, k=k)\n",
    "model_rec = recall(model, interaction_valid, k=k)"
   ]
  },
  {
   "cell_type": "code",
   "execution_count": 44,
   "metadata": {},
   "outputs": [
    {
     "name": "stdout",
     "output_type": "stream",
     "text": [
      "model hit rate: 0.794\n",
      "model reciprocal rank: 0.475\n",
      "model precision: 0.23\n",
      "model recall: 0.123\n"
     ]
    }
   ],
   "source": [
    "print(\"model hit rate: {}\".format(round(model_hrt, 3)))\n",
    "print(\"model reciprocal rank: {}\".format(round(model_rnk, 3)))\n",
    "print(\"model precision: {}\".format(round(model_pre, 3)))\n",
    "print(\"model recall: {}\".format(round(model_rec, 3)))"
   ]
  },
  {
   "cell_type": "markdown",
   "metadata": {},
   "source": [
    "##### Assessing diversity of recommendations"
   ]
  },
  {
   "cell_type": "code",
   "execution_count": 45,
   "metadata": {},
   "outputs": [
    {
     "data": {
      "text/html": [
       "<div>\n",
       "<style scoped>\n",
       "    .dataframe tbody tr th:only-of-type {\n",
       "        vertical-align: middle;\n",
       "    }\n",
       "\n",
       "    .dataframe tbody tr th {\n",
       "        vertical-align: top;\n",
       "    }\n",
       "\n",
       "    .dataframe thead th {\n",
       "        text-align: right;\n",
       "    }\n",
       "</style>\n",
       "<table border=\"1\" class=\"dataframe\">\n",
       "  <thead>\n",
       "    <tr style=\"text-align: right;\">\n",
       "      <th></th>\n",
       "      <th>product_name</th>\n",
       "      <th>aisle_id</th>\n",
       "      <th>department_id</th>\n",
       "    </tr>\n",
       "    <tr>\n",
       "      <th>product_id</th>\n",
       "      <th></th>\n",
       "      <th></th>\n",
       "      <th></th>\n",
       "    </tr>\n",
       "  </thead>\n",
       "  <tbody>\n",
       "    <tr>\n",
       "      <th>1</th>\n",
       "      <td>Chocolate Sandwich Cookies</td>\n",
       "      <td>61</td>\n",
       "      <td>19</td>\n",
       "    </tr>\n",
       "    <tr>\n",
       "      <th>2</th>\n",
       "      <td>All-Seasons Salt</td>\n",
       "      <td>104</td>\n",
       "      <td>13</td>\n",
       "    </tr>\n",
       "    <tr>\n",
       "      <th>3</th>\n",
       "      <td>Robust Golden Unsweetened Oolong Tea</td>\n",
       "      <td>94</td>\n",
       "      <td>7</td>\n",
       "    </tr>\n",
       "    <tr>\n",
       "      <th>4</th>\n",
       "      <td>Smart Ones Classic Favorites Mini Rigatoni Wit...</td>\n",
       "      <td>38</td>\n",
       "      <td>1</td>\n",
       "    </tr>\n",
       "    <tr>\n",
       "      <th>5</th>\n",
       "      <td>Green Chile Anytime Sauce</td>\n",
       "      <td>5</td>\n",
       "      <td>13</td>\n",
       "    </tr>\n",
       "    <tr>\n",
       "      <th>...</th>\n",
       "      <td>...</td>\n",
       "      <td>...</td>\n",
       "      <td>...</td>\n",
       "    </tr>\n",
       "    <tr>\n",
       "      <th>49684</th>\n",
       "      <td>Vodka, Triple Distilled, Twist of Vanilla</td>\n",
       "      <td>124</td>\n",
       "      <td>5</td>\n",
       "    </tr>\n",
       "    <tr>\n",
       "      <th>49685</th>\n",
       "      <td>En Croute Roast Hazelnut Cranberry</td>\n",
       "      <td>42</td>\n",
       "      <td>1</td>\n",
       "    </tr>\n",
       "    <tr>\n",
       "      <th>49686</th>\n",
       "      <td>Artisan Baguette</td>\n",
       "      <td>112</td>\n",
       "      <td>3</td>\n",
       "    </tr>\n",
       "    <tr>\n",
       "      <th>49687</th>\n",
       "      <td>Smartblend Healthy Metabolism Dry Cat Food</td>\n",
       "      <td>41</td>\n",
       "      <td>8</td>\n",
       "    </tr>\n",
       "    <tr>\n",
       "      <th>49688</th>\n",
       "      <td>Fresh Foaming Cleanser</td>\n",
       "      <td>73</td>\n",
       "      <td>11</td>\n",
       "    </tr>\n",
       "  </tbody>\n",
       "</table>\n",
       "<p>49688 rows × 3 columns</p>\n",
       "</div>"
      ],
      "text/plain": [
       "                                                 product_name  aisle_id  \\\n",
       "product_id                                                                \n",
       "1                                  Chocolate Sandwich Cookies        61   \n",
       "2                                            All-Seasons Salt       104   \n",
       "3                        Robust Golden Unsweetened Oolong Tea        94   \n",
       "4           Smart Ones Classic Favorites Mini Rigatoni Wit...        38   \n",
       "5                                   Green Chile Anytime Sauce         5   \n",
       "...                                                       ...       ...   \n",
       "49684               Vodka, Triple Distilled, Twist of Vanilla       124   \n",
       "49685                      En Croute Roast Hazelnut Cranberry        42   \n",
       "49686                                        Artisan Baguette       112   \n",
       "49687              Smartblend Healthy Metabolism Dry Cat Food        41   \n",
       "49688                                  Fresh Foaming Cleanser        73   \n",
       "\n",
       "            department_id  \n",
       "product_id                 \n",
       "1                      19  \n",
       "2                      13  \n",
       "3                       7  \n",
       "4                       1  \n",
       "5                      13  \n",
       "...                   ...  \n",
       "49684                   5  \n",
       "49685                   1  \n",
       "49686                   3  \n",
       "49687                   8  \n",
       "49688                  11  \n",
       "\n",
       "[49688 rows x 3 columns]"
      ]
     },
     "execution_count": 45,
     "metadata": {},
     "output_type": "execute_result"
    }
   ],
   "source": [
    "products_df = pd.read_csv(\"C:/Users/HOME/문서/한양대/3-2/산업공학연구실현장실습2/datas/Instacart/products.csv\",index_col=0)\n",
    "products_df"
   ]
  },
  {
   "cell_type": "code",
   "execution_count": 46,
   "metadata": {},
   "outputs": [
    {
     "data": {
      "text/html": [
       "<div>\n",
       "<style scoped>\n",
       "    .dataframe tbody tr th:only-of-type {\n",
       "        vertical-align: middle;\n",
       "    }\n",
       "\n",
       "    .dataframe tbody tr th {\n",
       "        vertical-align: top;\n",
       "    }\n",
       "\n",
       "    .dataframe thead th {\n",
       "        text-align: right;\n",
       "    }\n",
       "</style>\n",
       "<table border=\"1\" class=\"dataframe\">\n",
       "  <thead>\n",
       "    <tr style=\"text-align: right;\">\n",
       "      <th></th>\n",
       "      <th>cnt_users</th>\n",
       "      <th>pct_users</th>\n",
       "      <th>product_id</th>\n",
       "      <th>product_name</th>\n",
       "      <th>aisle_id</th>\n",
       "      <th>department_id</th>\n",
       "    </tr>\n",
       "  </thead>\n",
       "  <tbody>\n",
       "    <tr>\n",
       "      <th>0</th>\n",
       "      <td>6581</td>\n",
       "      <td>0.662672</td>\n",
       "      <td>24852</td>\n",
       "      <td>Banana</td>\n",
       "      <td>24</td>\n",
       "      <td>4</td>\n",
       "    </tr>\n",
       "    <tr>\n",
       "      <th>1</th>\n",
       "      <td>5652</td>\n",
       "      <td>0.569127</td>\n",
       "      <td>13176</td>\n",
       "      <td>Bag of Organic Bananas</td>\n",
       "      <td>24</td>\n",
       "      <td>4</td>\n",
       "    </tr>\n",
       "    <tr>\n",
       "      <th>2</th>\n",
       "      <td>4650</td>\n",
       "      <td>0.468231</td>\n",
       "      <td>21903</td>\n",
       "      <td>Organic Baby Spinach</td>\n",
       "      <td>123</td>\n",
       "      <td>4</td>\n",
       "    </tr>\n",
       "    <tr>\n",
       "      <th>3</th>\n",
       "      <td>3923</td>\n",
       "      <td>0.395026</td>\n",
       "      <td>21137</td>\n",
       "      <td>Organic Strawberries</td>\n",
       "      <td>24</td>\n",
       "      <td>4</td>\n",
       "    </tr>\n",
       "    <tr>\n",
       "      <th>4</th>\n",
       "      <td>3614</td>\n",
       "      <td>0.363911</td>\n",
       "      <td>47209</td>\n",
       "      <td>Organic Hass Avocado</td>\n",
       "      <td>24</td>\n",
       "      <td>4</td>\n",
       "    </tr>\n",
       "    <tr>\n",
       "      <th>5</th>\n",
       "      <td>3013</td>\n",
       "      <td>0.303393</td>\n",
       "      <td>16797</td>\n",
       "      <td>Strawberries</td>\n",
       "      <td>24</td>\n",
       "      <td>4</td>\n",
       "    </tr>\n",
       "    <tr>\n",
       "      <th>6</th>\n",
       "      <td>2811</td>\n",
       "      <td>0.283053</td>\n",
       "      <td>47626</td>\n",
       "      <td>Large Lemon</td>\n",
       "      <td>24</td>\n",
       "      <td>4</td>\n",
       "    </tr>\n",
       "    <tr>\n",
       "      <th>7</th>\n",
       "      <td>2739</td>\n",
       "      <td>0.275803</td>\n",
       "      <td>26209</td>\n",
       "      <td>Limes</td>\n",
       "      <td>24</td>\n",
       "      <td>4</td>\n",
       "    </tr>\n",
       "    <tr>\n",
       "      <th>8</th>\n",
       "      <td>2573</td>\n",
       "      <td>0.259088</td>\n",
       "      <td>47766</td>\n",
       "      <td>Organic Avocado</td>\n",
       "      <td>24</td>\n",
       "      <td>4</td>\n",
       "    </tr>\n",
       "    <tr>\n",
       "      <th>9</th>\n",
       "      <td>2272</td>\n",
       "      <td>0.228779</td>\n",
       "      <td>49683</td>\n",
       "      <td>Cucumber Kirby</td>\n",
       "      <td>83</td>\n",
       "      <td>4</td>\n",
       "    </tr>\n",
       "    <tr>\n",
       "      <th>10</th>\n",
       "      <td>1289</td>\n",
       "      <td>0.129796</td>\n",
       "      <td>34126</td>\n",
       "      <td>Organic Italian Parsley Bunch</td>\n",
       "      <td>16</td>\n",
       "      <td>4</td>\n",
       "    </tr>\n",
       "    <tr>\n",
       "      <th>11</th>\n",
       "      <td>1193</td>\n",
       "      <td>0.120129</td>\n",
       "      <td>45007</td>\n",
       "      <td>Organic Zucchini</td>\n",
       "      <td>83</td>\n",
       "      <td>4</td>\n",
       "    </tr>\n",
       "    <tr>\n",
       "      <th>12</th>\n",
       "      <td>1187</td>\n",
       "      <td>0.119525</td>\n",
       "      <td>5876</td>\n",
       "      <td>Organic Lemon</td>\n",
       "      <td>24</td>\n",
       "      <td>4</td>\n",
       "    </tr>\n",
       "    <tr>\n",
       "      <th>13</th>\n",
       "      <td>1104</td>\n",
       "      <td>0.111167</td>\n",
       "      <td>27845</td>\n",
       "      <td>Organic Whole Milk</td>\n",
       "      <td>84</td>\n",
       "      <td>16</td>\n",
       "    </tr>\n",
       "    <tr>\n",
       "      <th>14</th>\n",
       "      <td>1049</td>\n",
       "      <td>0.105629</td>\n",
       "      <td>6184</td>\n",
       "      <td>Clementines</td>\n",
       "      <td>32</td>\n",
       "      <td>4</td>\n",
       "    </tr>\n",
       "    <tr>\n",
       "      <th>15</th>\n",
       "      <td>1019</td>\n",
       "      <td>0.102608</td>\n",
       "      <td>27966</td>\n",
       "      <td>Organic Raspberries</td>\n",
       "      <td>123</td>\n",
       "      <td>4</td>\n",
       "    </tr>\n",
       "    <tr>\n",
       "      <th>16</th>\n",
       "      <td>1007</td>\n",
       "      <td>0.101400</td>\n",
       "      <td>39275</td>\n",
       "      <td>Organic Blueberries</td>\n",
       "      <td>123</td>\n",
       "      <td>4</td>\n",
       "    </tr>\n",
       "    <tr>\n",
       "      <th>17</th>\n",
       "      <td>970</td>\n",
       "      <td>0.097674</td>\n",
       "      <td>4605</td>\n",
       "      <td>Yellow Onions</td>\n",
       "      <td>83</td>\n",
       "      <td>4</td>\n",
       "    </tr>\n",
       "    <tr>\n",
       "      <th>18</th>\n",
       "      <td>872</td>\n",
       "      <td>0.087806</td>\n",
       "      <td>42265</td>\n",
       "      <td>Organic Baby Carrots</td>\n",
       "      <td>123</td>\n",
       "      <td>4</td>\n",
       "    </tr>\n",
       "    <tr>\n",
       "      <th>19</th>\n",
       "      <td>866</td>\n",
       "      <td>0.087202</td>\n",
       "      <td>9076</td>\n",
       "      <td>Blueberries</td>\n",
       "      <td>116</td>\n",
       "      <td>1</td>\n",
       "    </tr>\n",
       "  </tbody>\n",
       "</table>\n",
       "</div>"
      ],
      "text/plain": [
       "    cnt_users  pct_users  product_id                   product_name  aisle_id  \\\n",
       "0        6581   0.662672       24852                         Banana        24   \n",
       "1        5652   0.569127       13176         Bag of Organic Bananas        24   \n",
       "2        4650   0.468231       21903           Organic Baby Spinach       123   \n",
       "3        3923   0.395026       21137           Organic Strawberries        24   \n",
       "4        3614   0.363911       47209           Organic Hass Avocado        24   \n",
       "5        3013   0.303393       16797                   Strawberries        24   \n",
       "6        2811   0.283053       47626                    Large Lemon        24   \n",
       "7        2739   0.275803       26209                          Limes        24   \n",
       "8        2573   0.259088       47766                Organic Avocado        24   \n",
       "9        2272   0.228779       49683                 Cucumber Kirby        83   \n",
       "10       1289   0.129796       34126  Organic Italian Parsley Bunch        16   \n",
       "11       1193   0.120129       45007               Organic Zucchini        83   \n",
       "12       1187   0.119525        5876                  Organic Lemon        24   \n",
       "13       1104   0.111167       27845             Organic Whole Milk        84   \n",
       "14       1049   0.105629        6184                    Clementines        32   \n",
       "15       1019   0.102608       27966            Organic Raspberries       123   \n",
       "16       1007   0.101400       39275            Organic Blueberries       123   \n",
       "17        970   0.097674        4605                  Yellow Onions        83   \n",
       "18        872   0.087806       42265           Organic Baby Carrots       123   \n",
       "19        866   0.087202        9076                    Blueberries       116   \n",
       "\n",
       "    department_id  \n",
       "0               4  \n",
       "1               4  \n",
       "2               4  \n",
       "3               4  \n",
       "4               4  \n",
       "5               4  \n",
       "6               4  \n",
       "7               4  \n",
       "8               4  \n",
       "9               4  \n",
       "10              4  \n",
       "11              4  \n",
       "12              4  \n",
       "13             16  \n",
       "14              4  \n",
       "15              4  \n",
       "16              4  \n",
       "17              4  \n",
       "18              4  \n",
       "19              1  "
      ]
     },
     "execution_count": 46,
     "metadata": {},
     "output_type": "execute_result"
    }
   ],
   "source": [
    "model_diversity = diversity(model, interaction_valid, k=k).rename({'item_id': 'product_id'}, axis=1)\n",
    "model_diversity = pd.merge(model_diversity, products_df, on='product_id', how='inner')\n",
    "model_diversity = model_diversity[['cnt_users', 'pct_users', 'product_id', 'product_name', 'aisle_id', 'department_id']]\n",
    "model_diversity.head(20)"
   ]
  },
  {
   "cell_type": "code",
   "execution_count": 47,
   "metadata": {},
   "outputs": [
    {
     "data": {
      "text/plain": [
       "0.154"
      ]
     },
     "execution_count": 47,
     "metadata": {},
     "output_type": "execute_result"
    }
   ],
   "source": [
    "coverage = np.mean(model_diversity.cnt_users > 0)\n",
    "round(coverage, 3)"
   ]
  },
  {
   "cell_type": "code",
   "execution_count": 48,
   "metadata": {},
   "outputs": [
    {
     "data": {
      "text/plain": [
       "43.82"
      ]
     },
     "execution_count": 48,
     "metadata": {},
     "output_type": "execute_result"
    }
   ],
   "source": [
    "nonzero = model_diversity[model_diversity.cnt_users > 0]\n",
    "entropy = -np.sum(nonzero['pct_users'] * np.log2(nonzero['pct_users']))\n",
    "round(entropy, 2)"
   ]
  },
  {
   "cell_type": "code",
   "execution_count": 49,
   "metadata": {},
   "outputs": [
    {
     "data": {
      "image/png": "[encoded data removed]",
      "text/plain": [
       "<Figure size 1600x400 with 1 Axes>"
      ]
     },
     "metadata": {},
     "output_type": "display_data"
    }
   ],
   "source": [
    "fig, axes = plt.subplots(1, 1, figsize=[16, 4])\n",
    "N = 50\n",
    "\n",
    "topN = model_diversity.iloc[:N, :]\n",
    "axes.bar(topN.index.values + 1, topN.pct_users, width=1, edgecolor='black', alpha=0.75)\n",
    "axes.set(xlabel='Item Rank', ylabel='Percentage of Users', title='Percentage of Users Recommended by Item Rank')\n",
    "plt.show()"
   ]
  }
 ],
 "metadata": {
  "kernelspec": {
   "display_name": "RFMkernel",
   "language": "python",
   "name": "rfm"
  },
  "language_info": {
   "codemirror_mode": {
    "name": "ipython",
    "version": 3
   },
   "file_extension": ".py",
   "mimetype": "text/x-python",
   "name": "python",
   "nbconvert_exporter": "python",
   "pygments_lexer": "ipython3",
   "version": "3.11.5"
  }
 },
 "nbformat": 4,
 "nbformat_minor": 2
}
