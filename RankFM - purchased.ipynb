{
 "cells": [
  {
   "cell_type": "code",
   "execution_count": 1,
   "metadata": {},
   "outputs": [],
   "source": [
    "import numpy as np\n",
    "import pandas as pd\n",
    "import matplotlib.pyplot as plt\n",
    "import seaborn as sn\n",
    "import warnings\n",
    "warnings.filterwarnings(\"ignore\")"
   ]
  },
  {
   "cell_type": "code",
   "execution_count": 2,
   "metadata": {},
   "outputs": [],
   "source": [
    "from rankfm.rankfm import RankFM\n",
    "from rankfm.evaluation import hit_rate, reciprocal_rank, discounted_cumulative_gain, precision, recall, diversity"
   ]
  },
  {
   "cell_type": "markdown",
   "metadata": {},
   "source": [
    "### Preprocessing"
   ]
  },
  {
   "cell_type": "markdown",
   "metadata": {},
   "source": [
    "##### Getting Datas"
   ]
  },
  {
   "cell_type": "code",
   "execution_count": 3,
   "metadata": {},
   "outputs": [
    {
     "data": {
      "text/html": [
       "<div>\n",
       "<style scoped>\n",
       "    .dataframe tbody tr th:only-of-type {\n",
       "        vertical-align: middle;\n",
       "    }\n",
       "\n",
       "    .dataframe tbody tr th {\n",
       "        vertical-align: top;\n",
       "    }\n",
       "\n",
       "    .dataframe thead th {\n",
       "        text-align: right;\n",
       "    }\n",
       "</style>\n",
       "<table border=\"1\" class=\"dataframe\">\n",
       "  <thead>\n",
       "    <tr style=\"text-align: right;\">\n",
       "      <th></th>\n",
       "      <th>AUTH_CUSTOMER_ID</th>\n",
       "      <th>PRODUCT_CODE</th>\n",
       "      <th>ORDER_DATE</th>\n",
       "      <th>BIRTH_YEAR</th>\n",
       "      <th>user_total_fq</th>\n",
       "      <th>item_total_fq</th>\n",
       "      <th>GENDER</th>\n",
       "      <th>total_fq</th>\n",
       "      <th>C</th>\n",
       "      <th>target</th>\n",
       "      <th>DEPTH1</th>\n",
       "      <th>DEPTH2</th>\n",
       "      <th>DEPTH3</th>\n",
       "      <th>DEPTH4</th>\n",
       "    </tr>\n",
       "  </thead>\n",
       "  <tbody>\n",
       "    <tr>\n",
       "      <th>38495</th>\n",
       "      <td>7</td>\n",
       "      <td>1472250</td>\n",
       "      <td>1.634565e+09</td>\n",
       "      <td>1994.0</td>\n",
       "      <td>230</td>\n",
       "      <td>97090</td>\n",
       "      <td>0</td>\n",
       "      <td>5582675</td>\n",
       "      <td>3.459891e-05</td>\n",
       "      <td>1</td>\n",
       "      <td>14</td>\n",
       "      <td>1472</td>\n",
       "      <td>147225</td>\n",
       "      <td>1472250</td>\n",
       "    </tr>\n",
       "    <tr>\n",
       "      <th>148981</th>\n",
       "      <td>7</td>\n",
       "      <td>1212466</td>\n",
       "      <td>1.642638e+09</td>\n",
       "      <td>1994.0</td>\n",
       "      <td>230</td>\n",
       "      <td>594</td>\n",
       "      <td>0</td>\n",
       "      <td>34155</td>\n",
       "      <td>2.116774e-07</td>\n",
       "      <td>1</td>\n",
       "      <td>12</td>\n",
       "      <td>1212</td>\n",
       "      <td>121246</td>\n",
       "      <td>1212466</td>\n",
       "    </tr>\n",
       "    <tr>\n",
       "      <th>480601</th>\n",
       "      <td>7</td>\n",
       "      <td>1212466</td>\n",
       "      <td>1.654022e+09</td>\n",
       "      <td>1994.0</td>\n",
       "      <td>230</td>\n",
       "      <td>594</td>\n",
       "      <td>0</td>\n",
       "      <td>34155</td>\n",
       "      <td>2.116774e-07</td>\n",
       "      <td>1</td>\n",
       "      <td>12</td>\n",
       "      <td>1212</td>\n",
       "      <td>121246</td>\n",
       "      <td>1212466</td>\n",
       "    </tr>\n",
       "    <tr>\n",
       "      <th>160576</th>\n",
       "      <td>7</td>\n",
       "      <td>1212466</td>\n",
       "      <td>1.643224e+09</td>\n",
       "      <td>1994.0</td>\n",
       "      <td>230</td>\n",
       "      <td>594</td>\n",
       "      <td>0</td>\n",
       "      <td>34155</td>\n",
       "      <td>2.116774e-07</td>\n",
       "      <td>1</td>\n",
       "      <td>12</td>\n",
       "      <td>1212</td>\n",
       "      <td>121246</td>\n",
       "      <td>1212466</td>\n",
       "    </tr>\n",
       "    <tr>\n",
       "      <th>160543</th>\n",
       "      <td>7</td>\n",
       "      <td>1212466</td>\n",
       "      <td>1.643220e+09</td>\n",
       "      <td>1994.0</td>\n",
       "      <td>230</td>\n",
       "      <td>594</td>\n",
       "      <td>0</td>\n",
       "      <td>34155</td>\n",
       "      <td>2.116774e-07</td>\n",
       "      <td>1</td>\n",
       "      <td>12</td>\n",
       "      <td>1212</td>\n",
       "      <td>121246</td>\n",
       "      <td>1212466</td>\n",
       "    </tr>\n",
       "  </tbody>\n",
       "</table>\n",
       "</div>"
      ],
      "text/plain": [
       "        AUTH_CUSTOMER_ID  PRODUCT_CODE    ORDER_DATE  BIRTH_YEAR  \\\n",
       "38495                  7       1472250  1.634565e+09      1994.0   \n",
       "148981                 7       1212466  1.642638e+09      1994.0   \n",
       "480601                 7       1212466  1.654022e+09      1994.0   \n",
       "160576                 7       1212466  1.643224e+09      1994.0   \n",
       "160543                 7       1212466  1.643220e+09      1994.0   \n",
       "\n",
       "        user_total_fq  item_total_fq  GENDER  total_fq             C  target  \\\n",
       "38495             230          97090       0   5582675  3.459891e-05       1   \n",
       "148981            230            594       0     34155  2.116774e-07       1   \n",
       "480601            230            594       0     34155  2.116774e-07       1   \n",
       "160576            230            594       0     34155  2.116774e-07       1   \n",
       "160543            230            594       0     34155  2.116774e-07       1   \n",
       "\n",
       "        DEPTH1  DEPTH2  DEPTH3   DEPTH4  \n",
       "38495       14    1472  147225  1472250  \n",
       "148981      12    1212  121246  1212466  \n",
       "480601      12    1212  121246  1212466  \n",
       "160576      12    1212  121246  1212466  \n",
       "160543      12    1212  121246  1212466  "
      ]
     },
     "execution_count": 3,
     "metadata": {},
     "output_type": "execute_result"
    }
   ],
   "source": [
    "data = pd.read_csv(\"C:/Users/HOME/문서/한양대/3-2/산업공학연구실현장실습2/datas/data_new.csv\",index_col=0)\n",
    "data.head()"
   ]
  },
  {
   "cell_type": "code",
   "execution_count": 9,
   "metadata": {},
   "outputs": [
    {
     "data": {
      "text/html": [
       "<div>\n",
       "<style scoped>\n",
       "    .dataframe tbody tr th:only-of-type {\n",
       "        vertical-align: middle;\n",
       "    }\n",
       "\n",
       "    .dataframe tbody tr th {\n",
       "        vertical-align: top;\n",
       "    }\n",
       "\n",
       "    .dataframe thead th {\n",
       "        text-align: right;\n",
       "    }\n",
       "</style>\n",
       "<table border=\"1\" class=\"dataframe\">\n",
       "  <thead>\n",
       "    <tr style=\"text-align: right;\">\n",
       "      <th></th>\n",
       "      <th>AUTH_CUSTOMER_ID</th>\n",
       "      <th>PRODUCT_CODE</th>\n",
       "    </tr>\n",
       "  </thead>\n",
       "  <tbody>\n",
       "    <tr>\n",
       "      <th>38495</th>\n",
       "      <td>7</td>\n",
       "      <td>1472250</td>\n",
       "    </tr>\n",
       "    <tr>\n",
       "      <th>148981</th>\n",
       "      <td>7</td>\n",
       "      <td>1212466</td>\n",
       "    </tr>\n",
       "    <tr>\n",
       "      <th>480601</th>\n",
       "      <td>7</td>\n",
       "      <td>1212466</td>\n",
       "    </tr>\n",
       "    <tr>\n",
       "      <th>160576</th>\n",
       "      <td>7</td>\n",
       "      <td>1212466</td>\n",
       "    </tr>\n",
       "    <tr>\n",
       "      <th>160543</th>\n",
       "      <td>7</td>\n",
       "      <td>1212466</td>\n",
       "    </tr>\n",
       "    <tr>\n",
       "      <th>...</th>\n",
       "      <td>...</td>\n",
       "      <td>...</td>\n",
       "    </tr>\n",
       "    <tr>\n",
       "      <th>1758592</th>\n",
       "      <td>1173285</td>\n",
       "      <td>1472823</td>\n",
       "    </tr>\n",
       "    <tr>\n",
       "      <th>1758593</th>\n",
       "      <td>1173285</td>\n",
       "      <td>1472823</td>\n",
       "    </tr>\n",
       "    <tr>\n",
       "      <th>1758594</th>\n",
       "      <td>1173285</td>\n",
       "      <td>1472823</td>\n",
       "    </tr>\n",
       "    <tr>\n",
       "      <th>1758543</th>\n",
       "      <td>1173285</td>\n",
       "      <td>1509837</td>\n",
       "    </tr>\n",
       "    <tr>\n",
       "      <th>1758590</th>\n",
       "      <td>1173285</td>\n",
       "      <td>1472823</td>\n",
       "    </tr>\n",
       "  </tbody>\n",
       "</table>\n",
       "<p>1168415 rows × 2 columns</p>\n",
       "</div>"
      ],
      "text/plain": [
       "         AUTH_CUSTOMER_ID  PRODUCT_CODE\n",
       "38495                   7       1472250\n",
       "148981                  7       1212466\n",
       "480601                  7       1212466\n",
       "160576                  7       1212466\n",
       "160543                  7       1212466\n",
       "...                   ...           ...\n",
       "1758592           1173285       1472823\n",
       "1758593           1173285       1472823\n",
       "1758594           1173285       1472823\n",
       "1758543           1173285       1509837\n",
       "1758590           1173285       1472823\n",
       "\n",
       "[1168415 rows x 2 columns]"
      ]
     },
     "execution_count": 9,
     "metadata": {},
     "output_type": "execute_result"
    }
   ],
   "source": [
    "interactions_df = data[['AUTH_CUSTOMER_ID',\"PRODUCT_CODE\"]]\n",
    "interactions_df"
   ]
  },
  {
   "cell_type": "code",
   "execution_count": null,
   "metadata": {},
   "outputs": [],
   "source": [
    "from rankfm.utils import get_data"
   ]
  },
  {
   "cell_type": "code",
   "execution_count": 11,
   "metadata": {},
   "outputs": [
    {
     "data": {
      "text/html": [
       "<div>\n",
       "<style scoped>\n",
       "    .dataframe tbody tr th:only-of-type {\n",
       "        vertical-align: middle;\n",
       "    }\n",
       "\n",
       "    .dataframe tbody tr th {\n",
       "        vertical-align: top;\n",
       "    }\n",
       "\n",
       "    .dataframe thead th {\n",
       "        text-align: right;\n",
       "    }\n",
       "</style>\n",
       "<table border=\"1\" class=\"dataframe\">\n",
       "  <thead>\n",
       "    <tr style=\"text-align: right;\">\n",
       "      <th></th>\n",
       "      <th>user_id</th>\n",
       "      <th>item_id</th>\n",
       "    </tr>\n",
       "  </thead>\n",
       "  <tbody>\n",
       "    <tr>\n",
       "      <th>0</th>\n",
       "      <td>7</td>\n",
       "      <td>1472250</td>\n",
       "    </tr>\n",
       "    <tr>\n",
       "      <th>1</th>\n",
       "      <td>7</td>\n",
       "      <td>1212466</td>\n",
       "    </tr>\n",
       "    <tr>\n",
       "      <th>2</th>\n",
       "      <td>7</td>\n",
       "      <td>1212466</td>\n",
       "    </tr>\n",
       "    <tr>\n",
       "      <th>3</th>\n",
       "      <td>7</td>\n",
       "      <td>1212466</td>\n",
       "    </tr>\n",
       "    <tr>\n",
       "      <th>4</th>\n",
       "      <td>7</td>\n",
       "      <td>1212466</td>\n",
       "    </tr>\n",
       "    <tr>\n",
       "      <th>...</th>\n",
       "      <td>...</td>\n",
       "      <td>...</td>\n",
       "    </tr>\n",
       "    <tr>\n",
       "      <th>1168410</th>\n",
       "      <td>1173285</td>\n",
       "      <td>1472823</td>\n",
       "    </tr>\n",
       "    <tr>\n",
       "      <th>1168411</th>\n",
       "      <td>1173285</td>\n",
       "      <td>1472823</td>\n",
       "    </tr>\n",
       "    <tr>\n",
       "      <th>1168412</th>\n",
       "      <td>1173285</td>\n",
       "      <td>1472823</td>\n",
       "    </tr>\n",
       "    <tr>\n",
       "      <th>1168413</th>\n",
       "      <td>1173285</td>\n",
       "      <td>1509837</td>\n",
       "    </tr>\n",
       "    <tr>\n",
       "      <th>1168414</th>\n",
       "      <td>1173285</td>\n",
       "      <td>1472823</td>\n",
       "    </tr>\n",
       "  </tbody>\n",
       "</table>\n",
       "<p>1168415 rows × 2 columns</p>\n",
       "</div>"
      ],
      "text/plain": [
       "         user_id  item_id\n",
       "0              7  1472250\n",
       "1              7  1212466\n",
       "2              7  1212466\n",
       "3              7  1212466\n",
       "4              7  1212466\n",
       "...          ...      ...\n",
       "1168410  1173285  1472823\n",
       "1168411  1173285  1472823\n",
       "1168412  1173285  1472823\n",
       "1168413  1173285  1509837\n",
       "1168414  1173285  1472823\n",
       "\n",
       "[1168415 rows x 2 columns]"
      ]
     },
     "execution_count": 11,
     "metadata": {},
     "output_type": "execute_result"
    }
   ],
   "source": [
    "interactions_df = pd.DataFrame((get_data(interactions_df)), columns=['user_id', 'item_id'])\n",
    "interactions_df"
   ]
  },
  {
   "cell_type": "code",
   "execution_count": 13,
   "metadata": {},
   "outputs": [],
   "source": [
    "N = interactions_df.shape[0]\n",
    "shuffle_index = np.arange(N, dtype=np.int32)"
   ]
  },
  {
   "cell_type": "code",
   "execution_count": 16,
   "metadata": {},
   "outputs": [
    {
     "ename": "KeyError",
     "evalue": "(0, 0)",
     "output_type": "error",
     "traceback": [
      "\u001b[1;31m---------------------------------------------------------------------------\u001b[0m",
      "\u001b[1;31mKeyError\u001b[0m                                  Traceback (most recent call last)",
      "File \u001b[1;32mc:\\Users\\HOME\\miniconda3\\envs\\RFM2\\Lib\\site-packages\\pandas\\core\\indexes\\base.py:3790\u001b[0m, in \u001b[0;36mIndex.get_loc\u001b[1;34m(self, key)\u001b[0m\n\u001b[0;32m   3789\u001b[0m \u001b[39mtry\u001b[39;00m:\n\u001b[1;32m-> 3790\u001b[0m     \u001b[39mreturn\u001b[39;00m \u001b[39mself\u001b[39m\u001b[39m.\u001b[39m_engine\u001b[39m.\u001b[39mget_loc(casted_key)\n\u001b[0;32m   3791\u001b[0m \u001b[39mexcept\u001b[39;00m \u001b[39mKeyError\u001b[39;00m \u001b[39mas\u001b[39;00m err:\n",
      "File \u001b[1;32mindex.pyx:152\u001b[0m, in \u001b[0;36mpandas._libs.index.IndexEngine.get_loc\u001b[1;34m()\u001b[0m\n",
      "File \u001b[1;32mindex.pyx:181\u001b[0m, in \u001b[0;36mpandas._libs.index.IndexEngine.get_loc\u001b[1;34m()\u001b[0m\n",
      "File \u001b[1;32mpandas\\_libs\\hashtable_class_helper.pxi:7080\u001b[0m, in \u001b[0;36mpandas._libs.hashtable.PyObjectHashTable.get_item\u001b[1;34m()\u001b[0m\n",
      "File \u001b[1;32mpandas\\_libs\\hashtable_class_helper.pxi:7088\u001b[0m, in \u001b[0;36mpandas._libs.hashtable.PyObjectHashTable.get_item\u001b[1;34m()\u001b[0m\n",
      "\u001b[1;31mKeyError\u001b[0m: (0, 0)",
      "\nThe above exception was the direct cause of the following exception:\n",
      "\u001b[1;31mKeyError\u001b[0m                                  Traceback (most recent call last)",
      "\u001b[1;32mc:\\Users\\HOME\\문서\\한양대\\3-2\\산업공학연구실현장실습2\\codes\\RankFM - purchased.ipynb Cell 10\u001b[0m line \u001b[0;36m3\n\u001b[0;32m      <a href='vscode-notebook-cell:/c%3A/Users/HOME/%EB%AC%B8%EC%84%9C/%ED%95%9C%EC%96%91%EB%8C%80/3-2/%EC%82%B0%EC%97%85%EA%B3%B5%ED%95%99%EC%97%B0%EA%B5%AC%EC%8B%A4%ED%98%84%EC%9E%A5%EC%8B%A4%EC%8A%B52/codes/RankFM%20-%20purchased.ipynb#X10sZmlsZQ%3D%3D?line=0'>1</a>\u001b[0m \u001b[39mfor\u001b[39;00m r \u001b[39min\u001b[39;00m \u001b[39mrange\u001b[39m(\u001b[39m100\u001b[39m):\n\u001b[0;32m      <a href='vscode-notebook-cell:/c%3A/Users/HOME/%EB%AC%B8%EC%84%9C/%ED%95%9C%EC%96%91%EB%8C%80/3-2/%EC%82%B0%EC%97%85%EA%B3%B5%ED%95%99%EC%97%B0%EA%B5%AC%EC%8B%A4%ED%98%84%EC%9E%A5%EC%8B%A4%EC%8A%B52/codes/RankFM%20-%20purchased.ipynb#X10sZmlsZQ%3D%3D?line=1'>2</a>\u001b[0m     row \u001b[39m=\u001b[39m shuffle_index[r]\n\u001b[1;32m----> <a href='vscode-notebook-cell:/c%3A/Users/HOME/%EB%AC%B8%EC%84%9C/%ED%95%9C%EC%96%91%EB%8C%80/3-2/%EC%82%B0%EC%97%85%EA%B3%B5%ED%95%99%EC%97%B0%EA%B5%AC%EC%8B%A4%ED%98%84%EC%9E%A5%EC%8B%A4%EC%8A%B52/codes/RankFM%20-%20purchased.ipynb#X10sZmlsZQ%3D%3D?line=2'>3</a>\u001b[0m     u \u001b[39m=\u001b[39m interactions_df[row,\u001b[39m0\u001b[39m]\n\u001b[0;32m      <a href='vscode-notebook-cell:/c%3A/Users/HOME/%EB%AC%B8%EC%84%9C/%ED%95%9C%EC%96%91%EB%8C%80/3-2/%EC%82%B0%EC%97%85%EA%B3%B5%ED%95%99%EC%97%B0%EA%B5%AC%EC%8B%A4%ED%98%84%EC%9E%A5%EC%8B%A4%EC%8A%B52/codes/RankFM%20-%20purchased.ipynb#X10sZmlsZQ%3D%3D?line=3'>4</a>\u001b[0m     i \u001b[39m=\u001b[39m interactions_df[row,\u001b[39m1\u001b[39m]\n",
      "File \u001b[1;32mc:\\Users\\HOME\\miniconda3\\envs\\RFM2\\Lib\\site-packages\\pandas\\core\\frame.py:3896\u001b[0m, in \u001b[0;36mDataFrame.__getitem__\u001b[1;34m(self, key)\u001b[0m\n\u001b[0;32m   3894\u001b[0m \u001b[39mif\u001b[39;00m \u001b[39mself\u001b[39m\u001b[39m.\u001b[39mcolumns\u001b[39m.\u001b[39mnlevels \u001b[39m>\u001b[39m \u001b[39m1\u001b[39m:\n\u001b[0;32m   3895\u001b[0m     \u001b[39mreturn\u001b[39;00m \u001b[39mself\u001b[39m\u001b[39m.\u001b[39m_getitem_multilevel(key)\n\u001b[1;32m-> 3896\u001b[0m indexer \u001b[39m=\u001b[39m \u001b[39mself\u001b[39m\u001b[39m.\u001b[39mcolumns\u001b[39m.\u001b[39mget_loc(key)\n\u001b[0;32m   3897\u001b[0m \u001b[39mif\u001b[39;00m is_integer(indexer):\n\u001b[0;32m   3898\u001b[0m     indexer \u001b[39m=\u001b[39m [indexer]\n",
      "File \u001b[1;32mc:\\Users\\HOME\\miniconda3\\envs\\RFM2\\Lib\\site-packages\\pandas\\core\\indexes\\base.py:3797\u001b[0m, in \u001b[0;36mIndex.get_loc\u001b[1;34m(self, key)\u001b[0m\n\u001b[0;32m   3792\u001b[0m     \u001b[39mif\u001b[39;00m \u001b[39misinstance\u001b[39m(casted_key, \u001b[39mslice\u001b[39m) \u001b[39mor\u001b[39;00m (\n\u001b[0;32m   3793\u001b[0m         \u001b[39misinstance\u001b[39m(casted_key, abc\u001b[39m.\u001b[39mIterable)\n\u001b[0;32m   3794\u001b[0m         \u001b[39mand\u001b[39;00m \u001b[39many\u001b[39m(\u001b[39misinstance\u001b[39m(x, \u001b[39mslice\u001b[39m) \u001b[39mfor\u001b[39;00m x \u001b[39min\u001b[39;00m casted_key)\n\u001b[0;32m   3795\u001b[0m     ):\n\u001b[0;32m   3796\u001b[0m         \u001b[39mraise\u001b[39;00m InvalidIndexError(key)\n\u001b[1;32m-> 3797\u001b[0m     \u001b[39mraise\u001b[39;00m \u001b[39mKeyError\u001b[39;00m(key) \u001b[39mfrom\u001b[39;00m \u001b[39merr\u001b[39;00m\n\u001b[0;32m   3798\u001b[0m \u001b[39mexcept\u001b[39;00m \u001b[39mTypeError\u001b[39;00m:\n\u001b[0;32m   3799\u001b[0m     \u001b[39m# If we have a listlike key, _check_indexing_error will raise\u001b[39;00m\n\u001b[0;32m   3800\u001b[0m     \u001b[39m#  InvalidIndexError. Otherwise we fall through and re-raise\u001b[39;00m\n\u001b[0;32m   3801\u001b[0m     \u001b[39m#  the TypeError.\u001b[39;00m\n\u001b[0;32m   3802\u001b[0m     \u001b[39mself\u001b[39m\u001b[39m.\u001b[39m_check_indexing_error(key)\n",
      "\u001b[1;31mKeyError\u001b[0m: (0, 0)"
     ]
    }
   ],
   "source": [
    "for r in range(100):\n",
    "    row = shuffle_index[r]\n",
    "    u = interactions_df[row,0]\n",
    "    i = interactions_df[row,1]"
   ]
  },
  {
   "cell_type": "markdown",
   "metadata": {},
   "source": [
    "### Check Matrix/Vector Dimensions\n",
    "데이터 구조 확인"
   ]
  },
  {
   "cell_type": "code",
   "execution_count": 5,
   "metadata": {},
   "outputs": [
    {
     "name": "stdout",
     "output_type": "stream",
     "text": [
      "interaction shape: (1168415, 2)\n",
      "interactions unique users: 113578\n",
      "interactions unique items: 8379\n"
     ]
    }
   ],
   "source": [
    "unique_users = interactions_df.AUTH_CUSTOMER_ID.nunique()\n",
    "unique_items = interactions_df.PRODUCT_CODE.nunique()\n",
    "\n",
    "print(\"interaction shape: {}\".format(interactions_df.shape))\n",
    "print(\"interactions unique users: {}\".format(unique_users))\n",
    "print(\"interactions unique items: {}\".format(unique_items))"
   ]
  },
  {
   "cell_type": "markdown",
   "metadata": {},
   "source": [
    "Evaluate Interaction Matrix Sparsity"
   ]
  },
  {
   "cell_type": "code",
   "execution_count": 6,
   "metadata": {},
   "outputs": [
    {
     "name": "stdout",
     "output_type": "stream",
     "text": [
      "interaction matrix sparsity: 99.9%\n"
     ]
    }
   ],
   "source": [
    "sparsity = 1-len(interactions_df)/(unique_users * unique_items)\n",
    "print(\"interaction matrix sparsity: {}%\".format(round(100*sparsity, 1)))"
   ]
  },
  {
   "cell_type": "markdown",
   "metadata": {},
   "source": [
    "### Splliting Data into (Train, Valid) for Model Evaluation"
   ]
  },
  {
   "cell_type": "code",
   "execution_count": 7,
   "metadata": {},
   "outputs": [],
   "source": [
    "np.random.seed(3)\n",
    "interactions_df['random'] = np.random.random(size=len(interactions_df))\n",
    "test_pct_1=0.25\n",
    "test_pct_2=0.3\n",
    "test_pct_3=0.1"
   ]
  },
  {
   "cell_type": "code",
   "execution_count": 8,
   "metadata": {},
   "outputs": [],
   "source": [
    "class train_valid_generator:\n",
    "    def __init__(self, test_pct):\n",
    "        self.test_pct = test_pct\n",
    "        self.train_mask = interactions_df['random']<1-(test_pct)\n",
    "        self.valid_mask = interactions_df['random'] >= (1-test_pct)\n",
    "        self.interactions_train = interactions_df[self.train_mask][['AUTH_CUSTOMER_ID','PRODUCT_CODE']]\n",
    "        self.interactions_valid = interactions_df[self.valid_mask][['AUTH_CUSTOMER_ID','PRODUCT_CODE']]\n",
    "\n",
    "        self.train_users = np.sort(self.interactions_train.AUTH_CUSTOMER_ID.unique())\n",
    "        self.valid_users = np.sort(self.interactions_valid.AUTH_CUSTOMER_ID.unique())\n",
    "        self.cold_start_users = set(self.valid_users) - set(self.train_users)\n",
    "\n",
    "        self.train_items = np.sort(self.interactions_train.PRODUCT_CODE.unique())\n",
    "        self.valid_items = np.sort(self.interactions_valid.PRODUCT_CODE.unique())\n",
    "        self.cold_start_items = set(self.valid_items) - set(self.train_items)"
   ]
  },
  {
   "cell_type": "code",
   "execution_count": 9,
   "metadata": {},
   "outputs": [],
   "source": [
    "data_1 = train_valid_generator(test_pct_1)\n",
    "data_2 = train_valid_generator(test_pct_2)\n",
    "data_3 = train_valid_generator(test_pct_3)"
   ]
  },
  {
   "cell_type": "markdown",
   "metadata": {},
   "source": [
    "### Fit the Model on the Training Data\n",
    "* each epoch represents one full pass through all observered user/item ineractions in the training data\n",
    "* verbose : current training epoch와 penalized log-likelihood 출력\n",
    "* algorithm attempts to maximize model's log-likelihood : user preference for observed items over unobserved item"
   ]
  },
  {
   "cell_type": "code",
   "execution_count": 10,
   "metadata": {},
   "outputs": [],
   "source": [
    "model_1 = RankFM(factors=20, loss='warp', max_samples=20, alpha=0.01, sigma=0.1, learning_rate=0.10, learning_schedule='invscaling')\n",
    "model_2 = RankFM(factors=20, loss='warp', max_samples=20, alpha=0.01, sigma=0.1, learning_rate=0.10, learning_schedule='invscaling')\n",
    "model_3 = RankFM(factors=20, loss='warp', max_samples=20, alpha=0.01, sigma=0.1, learning_rate=0.10, learning_schedule='invscaling')"
   ]
  },
  {
   "cell_type": "code",
   "execution_count": 11,
   "metadata": {},
   "outputs": [
    {
     "name": "stdout",
     "output_type": "stream",
     "text": [
      "\n",
      "training epoch: 0\n",
      "log likelihood: -349014.65625\n",
      "\n",
      "training epoch: 1\n",
      "log likelihood: -345466.09375\n",
      "\n",
      "training epoch: 2\n",
      "log likelihood: -344863.96875\n",
      "\n",
      "training epoch: 3\n",
      "log likelihood: -343856.34375\n",
      "\n",
      "training epoch: 4\n",
      "log likelihood: -342791.71875\n",
      "\n",
      "training epoch: 5\n",
      "log likelihood: -340500.9375\n",
      "\n",
      "training epoch: 6\n",
      "log likelihood: -338542.40625\n",
      "\n",
      "training epoch: 7\n",
      "log likelihood: -335913.1875\n",
      "\n",
      "training epoch: 8\n",
      "log likelihood: -332329.75\n",
      "\n",
      "training epoch: 9\n",
      "log likelihood: -328900.46875\n"
     ]
    }
   ],
   "source": [
    "model_1.fit(data_1.interactions_train, epochs=10, verbose=True)"
   ]
  },
  {
   "cell_type": "code",
   "execution_count": 12,
   "metadata": {},
   "outputs": [
    {
     "name": "stdout",
     "output_type": "stream",
     "text": [
      "\n",
      "training epoch: 0\n",
      "log likelihood: -326010.5625\n",
      "\n",
      "training epoch: 1\n",
      "log likelihood: -322542.15625\n",
      "\n",
      "training epoch: 2\n",
      "log likelihood: -321596.96875\n",
      "\n",
      "training epoch: 3\n",
      "log likelihood: -320667.53125\n",
      "\n",
      "training epoch: 4\n",
      "log likelihood: -319760.1875\n",
      "\n",
      "training epoch: 5\n",
      "log likelihood: -318341.15625\n",
      "\n",
      "training epoch: 6\n",
      "log likelihood: -315553.0625\n",
      "\n",
      "training epoch: 7\n",
      "log likelihood: -314046.90625\n",
      "\n",
      "training epoch: 8\n",
      "log likelihood: -310880.46875\n",
      "\n",
      "training epoch: 9\n",
      "log likelihood: -307888.90625\n"
     ]
    }
   ],
   "source": [
    "model_2.fit(data_2.interactions_train, epochs=10, verbose=True)"
   ]
  },
  {
   "cell_type": "code",
   "execution_count": 13,
   "metadata": {},
   "outputs": [
    {
     "name": "stdout",
     "output_type": "stream",
     "text": [
      "\n",
      "training epoch: 0\n",
      "log likelihood: -418336.625\n",
      "\n",
      "training epoch: 1\n",
      "log likelihood: -414544.375\n",
      "\n",
      "training epoch: 2\n",
      "log likelihood: -413826.625\n",
      "\n",
      "training epoch: 3\n",
      "log likelihood: -412937.90625\n",
      "\n",
      "training epoch: 4\n",
      "log likelihood: -410650.4375\n",
      "\n",
      "training epoch: 5\n",
      "log likelihood: -407951.34375\n",
      "\n",
      "training epoch: 6\n",
      "log likelihood: -403925.53125\n",
      "\n",
      "training epoch: 7\n",
      "log likelihood: -399896.71875\n",
      "\n",
      "training epoch: 8\n",
      "log likelihood: -394732.59375\n",
      "\n",
      "training epoch: 9\n",
      "log likelihood: -388852.625\n"
     ]
    }
   ],
   "source": [
    "model_3.fit(data_3.interactions_train, epochs=10, verbose=True)"
   ]
  },
  {
   "cell_type": "markdown",
   "metadata": {},
   "source": [
    "### Generate Model Scores for Validation Interactions\n",
    "* `predict()` : user/item pair을 위한 실수 model scores 생성\n",
    "* [user_id, item_id]와 같은 방식으로 specify scoring interactions\n",
    "* `cold_start` : to either generate missing values for unseen user/itmes or drop them for scoring output"
   ]
  },
  {
   "cell_type": "code",
   "execution_count": 14,
   "metadata": {},
   "outputs": [],
   "source": [
    "# valid_scores_1 = model_1.predict(data_1.interactions_valid, cold_start='nan')\n",
    "# valid_scores_2 = model_2.predict(data_2.interactions_valid, cold_start='nan')\n",
    "# valid_scores_3 = model_3.predict(data_3.interactions_valid, cold_start='nan')\n",
    "# print(valid_scores_1.shape, valid_scores_2.shape, valid_scores_3.shape)\n",
    "# pd.Series(valid_scores_1).describe()"
   ]
  },
  {
   "cell_type": "code",
   "execution_count": 15,
   "metadata": {},
   "outputs": [],
   "source": [
    "# valid_recs_1 = model_1.recommend(data_1.valid_users, n_items=10, filter_previous=True, cold_start=\"drop\")\n",
    "# valid_recs_2 = model_2.recommend(data_2.valid_users, n_items=10, filter_previous=True, cold_start=\"drop\")\n",
    "# valid_recs_2 = model_3.recommend(data_3.valid_users, n_items=10, filter_previous=True, cold_start=\"drop\")"
   ]
  },
  {
   "cell_type": "markdown",
   "metadata": {},
   "source": [
    "### Evaluate Model Performance with Validation Data"
   ]
  },
  {
   "cell_type": "code",
   "execution_count": 16,
   "metadata": {},
   "outputs": [],
   "source": [
    "class evaluative_metrics:\n",
    "    def __init__(self, model, data):\n",
    "        self.valid_hit_rate = hit_rate(model, data.interactions_valid, k=10)\n",
    "        self.reciprocal_rank = reciprocal_rank(model, data.interactions_valid, k=10)\n",
    "        self.valid_dcg = discounted_cumulative_gain(model, data.interactions_valid, k=10)\n",
    "        self.valid_precision = precision(model, data.interactions_valid, k=10)\n",
    "        self.recall = recall(model, data.interactions_valid, k=10)\n",
    "    \n",
    "    def print_metrics(self):\n",
    "        print(\"hit rate: {:.4f}\".format(self.valid_hit_rate))\n",
    "        print(\"reciprocal_rank: {:.4f}\".format(self.reciprocal_rank))\n",
    "        print(\"dcg: {:.4f}\".format(self.valid_dcg))\n",
    "        print(\"precision: {:.4f}\".format(self.valid_precision))\n",
    "        print(\"recall: {}\".format(self.recall))"
   ]
  },
  {
   "cell_type": "code",
   "execution_count": 17,
   "metadata": {},
   "outputs": [
    {
     "name": "stdout",
     "output_type": "stream",
     "text": [
      "hit rate: 0.3437\n",
      "reciprocal_rank: 0.1672\n",
      "dcg: 0.2326\n",
      "precision: 0.0407\n",
      "recall: 0.19114823320135513\n"
     ]
    }
   ],
   "source": [
    "eval_1 = evaluative_metrics(model_1, data_1)\n",
    "eval_1.print_metrics()"
   ]
  },
  {
   "cell_type": "code",
   "execution_count": 18,
   "metadata": {},
   "outputs": [
    {
     "name": "stdout",
     "output_type": "stream",
     "text": [
      "hit rate: 0.3649\n",
      "reciprocal_rank: 0.1730\n",
      "dcg: 0.2452\n",
      "precision: 0.0437\n",
      "recall: 0.18775074234878947\n"
     ]
    }
   ],
   "source": [
    "eval_2 = evaluative_metrics(model_2, data_2)\n",
    "eval_2.print_metrics()"
   ]
  },
  {
   "cell_type": "code",
   "execution_count": 19,
   "metadata": {},
   "outputs": [
    {
     "name": "stdout",
     "output_type": "stream",
     "text": [
      "hit rate: 0.2858\n",
      "reciprocal_rank: 0.1522\n",
      "dcg: 0.1947\n",
      "precision: 0.0314\n",
      "recall: 0.20842983116648403\n"
     ]
    }
   ],
   "source": [
    "eval_3 = evaluative_metrics(model_3, data_3)\n",
    "eval_3.print_metrics()"
   ]
  }
 ],
 "metadata": {
  "kernelspec": {
   "display_name": "Python 3",
   "language": "python",
   "name": "python3"
  },
  "language_info": {
   "codemirror_mode": {
    "name": "ipython",
    "version": 3
   },
   "file_extension": ".py",
   "mimetype": "text/x-python",
   "name": "python",
   "nbconvert_exporter": "python",
   "pygments_lexer": "ipython3",
   "version": "3.11.0"
  }
 },
 "nbformat": 4,
 "nbformat_minor": 2
}
