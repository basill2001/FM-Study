{
 "cells": [
  {
   "cell_type": "code",
   "execution_count": 1,
   "metadata": {},
   "outputs": [],
   "source": [
    "import numpy as np\n",
    "import pandas as pd"
   ]
  },
  {
   "cell_type": "code",
   "execution_count": 24,
   "metadata": {},
   "outputs": [],
   "source": [
    "import jdc"
   ]
  },
  {
   "cell_type": "code",
   "execution_count": 6,
   "metadata": {},
   "outputs": [],
   "source": [
    "data = pd.read_csv(\"C:/Users/HOME/문서/한양대/3-2/산업공학연구실현장실습2/datas/data_new.csv\",index_col=0)\n",
    "interactions_df = data[['AUTH_CUSTOMER_ID',\"PRODUCT_CODE\"]]"
   ]
  },
  {
   "cell_type": "markdown",
   "metadata": {},
   "source": [
    "Index the interaction data and user/item features and initialize model weights\n",
    "* param `interactions`: dataframe of observed user/item interactions: [user_id, item_id]\n",
    "* param `user_features`: dataframe of user metadata features: [user_id, uf_1, ..., uf_n]\n",
    "* param `item_features`: dataframe of item metadata features: [item_id, if_1, ..., if_n]\n",
    "* param `sample_weight`: vector of importance weights for each observed interaction\n",
    "return: None"
   ]
  },
  {
   "cell_type": "code",
   "execution_count": 25,
   "metadata": {},
   "outputs": [],
   "source": [
    "class RankFM():\n",
    "    def __init__(self, factors=10, loss='bpr', max_samples=10, alpha=0.01, beta=0.1, sigma=0.1, learning_rate=0.1, learning_schedule='constant', learning_exponent=0.25):\n",
    "        # store model hyperparameters\n",
    "        self.factors = factors\n",
    "        self.loss = loss\n",
    "        self.max_samples = max_samples\n",
    "        self.alpha = alpha\n",
    "        self.beta = beta\n",
    "        self.sigma = sigma\n",
    "        self.learning_rate = learning_rate\n",
    "        self.learning_schedule = learning_schedule\n",
    "        self.learning_exponent = learning_exponent\n",
    "\n",
    "        # set/clear initial model state\n",
    "        self._reset_state()"
   ]
  },
  {
   "cell_type": "code",
   "execution_count": 26,
   "metadata": {},
   "outputs": [],
   "source": [
    "%%add_to RankFM\n",
    "def _reset_state(self):\n",
    "    # [ID, IDX] arrays\n",
    "    self.user_id = None\n",
    "    self.item_id = None\n",
    "    self.user_idx = None\n",
    "    self.item_idx = None\n",
    "\n",
    "    # [ID <-> IDX] mappings\n",
    "    self.index_to_user = None\n",
    "    self.index_to_item = None\n",
    "    self.user_to_index = None\n",
    "    self.item_to_index = None\n",
    "\n",
    "    # user/item interactions and importance weights\n",
    "    self.interactions = None\n",
    "    self.sample_weight = None\n",
    "\n",
    "    # set of observed items for each user\n",
    "    self.user_items = None\n",
    "\n",
    "    # [user, item] features\n",
    "    self.x_uf = None\n",
    "    self.x_if = None\n",
    "\n",
    "    # [item, item-feature] scalar weights\n",
    "    self.w_i = None\n",
    "    self.w_if = None\n",
    "\n",
    "    # [user, item, user-feature, item-feature] latent factors\n",
    "    self.v_u = None\n",
    "    self.v_i = None\n",
    "    self.v_uf = None\n",
    "    self.v_if = None\n",
    "\n",
    "    # internal model state indicator\n",
    "    self.is_fit = False"
   ]
  },
  {
   "cell_type": "code",
   "execution_count": 46,
   "metadata": {},
   "outputs": [],
   "source": [
    "%%add_to RankFM\n",
    "def _init_all(self, interactions, user_features=None, item_features=None, sample_weight=None):\n",
    "    # save unique arrays of users/items in terms of original identifiers\n",
    "    interactions_df = pd.DataFrame(get_data(interactions), columns=['user_id', 'item_id'])\n",
    "    self.user_id = pd.Series(np.sort(np.unique(interactions_df['user_id'])))\n",
    "    self.item_id = pd.Series(np.sort(np.unique(interactions_df['item_id'])))\n",
    "\n",
    "    # create reverse mappings from identifiers to zero-based index positions\n",
    "    self.user_to_index = pd.Series(data=self.user_id.index, index=self.index_to_user.values)\n",
    "    self.item_to_index = pd.Series(data=self.item_id.index, index=self.index_to_item.values)\n",
    "\n",
    "    # store unique values of user/item indexes and observed interactions for each user\n",
    "    self.user_idx = np.arange(len(self.user_id), dtype=np.int32)\n",
    "    self.item_idx = np.arange(len(self.item_id), dtype=np.int32)\n",
    "\n",
    "    # map the interactions to internal index positions\n",
    "    self._init_interactions(interactions, sample_weight)\n",
    "\n",
    "    # map the user/item features to internal index positions\n",
    "    self._init_features(user_features, item_features)\n",
    "\n",
    "    # initialize the model weights after the user/item/feature dimensions have been established\n",
    "    self._init_weights(user_features, item_features)"
   ]
  },
  {
   "cell_type": "code",
   "execution_count": 47,
   "metadata": {},
   "outputs": [],
   "source": [
    "model = RankFM(factors=20, loss='warp', max_samples=20, alpha=0.01, sigma=0.1, learning_rate=0.10, learning_schedule='invscaling')"
   ]
  },
  {
   "cell_type": "code",
   "execution_count": 48,
   "metadata": {},
   "outputs": [
    {
     "ename": "AttributeError",
     "evalue": "'NoneType' object has no attribute 'values'",
     "output_type": "error",
     "traceback": [
      "\u001b[1;31m---------------------------------------------------------------------------\u001b[0m",
      "\u001b[1;31mAttributeError\u001b[0m                            Traceback (most recent call last)",
      "\u001b[1;32mc:\\Users\\HOME\\문서\\한양대\\3-2\\산업공학연구실현장실습2\\codes\\RankFM_wheel.ipynb Cell 9\u001b[0m line \u001b[0;36m1\n\u001b[1;32m----> <a href='vscode-notebook-cell:/c%3A/Users/HOME/%EB%AC%B8%EC%84%9C/%ED%95%9C%EC%96%91%EB%8C%80/3-2/%EC%82%B0%EC%97%85%EA%B3%B5%ED%95%99%EC%97%B0%EA%B5%AC%EC%8B%A4%ED%98%84%EC%9E%A5%EC%8B%A4%EC%8A%B52/codes/RankFM_wheel.ipynb#X24sZmlsZQ%3D%3D?line=0'>1</a>\u001b[0m model\u001b[39m.\u001b[39;49m_init_all(interactions_df)\n",
      "File \u001b[1;32m<string>:8\u001b[0m, in \u001b[0;36m_init_all\u001b[1;34m(self, interactions, user_features, item_features, sample_weight)\u001b[0m\n",
      "\u001b[1;31mAttributeError\u001b[0m: 'NoneType' object has no attribute 'values'"
     ]
    }
   ],
   "source": [
    "model._init_all(interactions_df)"
   ]
  },
  {
   "cell_type": "code",
   "execution_count": null,
   "metadata": {},
   "outputs": [],
   "source": [
    "def _init_interactions(self, interactions, sample_weight):\n",
    "        \"\"\"map new interaction data to existing internal user/item indexes\n",
    "\n",
    "        :param interactions: dataframe of observed user/item interactions: [user_id, item_id]\n",
    "        :param sample_weight: vector of importance weights for each observed interaction\n",
    "        :return: None\n",
    "        \"\"\"\n",
    "\n",
    "        assert isinstance(interactions, (np.ndarray, pd.DataFrame)), \"[interactions] must be np.ndarray or pd.dataframe\"\n",
    "        assert interactions.shape[1] == 2, \"[interactions] should be: [user_id, item_id]\"\n",
    "\n",
    "        # map the raw user/item identifiers to internal zero-based index positions\n",
    "        # NOTE: any user/item pairs not found in the existing indexes will be dropped\n",
    "        self.interactions = pd.DataFrame(get_data(interactions).copy(), columns=['user_id', 'item_id'])\n",
    "        self.interactions['user_id'] = self.interactions['user_id'].map(self.user_to_index).astype(np.int32)\n",
    "        self.interactions['item_id'] = self.interactions['item_id'].map(self.item_to_index).astype(np.int32)\n",
    "        self.interactions = self.interactions.rename({'user_id': 'user_idx', 'item_id': 'item_idx'}, axis=1).dropna()\n",
    "\n",
    "        # store the sample weights internally or generate a vector of ones if not given\n",
    "        if sample_weight is not None:\n",
    "            assert isinstance(sample_weight, (np.ndarray, pd.Series)), \"[sample_weight] must be np.ndarray or pd.series\"\n",
    "            assert sample_weight.ndim == 1, \"[sample_weight] must a vector (ndim=1)\"\n",
    "            assert len(sample_weight) == len(interactions), \"[sample_weight] must have the same length as [interactions]\"\n",
    "            self.sample_weight = np.ascontiguousarray(get_data(sample_weight), dtype=np.float32)\n",
    "        else:\n",
    "            self.sample_weight = np.ones(len(self.interactions), dtype=np.float32)\n",
    "\n",
    "        # create a dictionary containing the set of observed items for each user\n",
    "        # NOTE: if the model has been previously fit extend rather than replace the itemset for each user\n",
    "\n",
    "        if self.is_fit:\n",
    "            new_user_items = self.interactions.groupby('user_idx')['item_idx'].apply(set).to_dict()\n",
    "            self.user_items = {user: np.sort(np.array(list(set(self.user_items[user]) | set(new_user_items[user])), dtype=np.int32)) for user in self.user_items.keys()}\n",
    "        else:\n",
    "            self.user_items = self.interactions.sort_values(['user_idx', 'item_idx']).groupby('user_idx')['item_idx'].apply(np.array, dtype=np.int32).to_dict()\n",
    "\n",
    "        # format the interactions data as a c-contiguous integer array for cython use\n",
    "        self.interactions = np.ascontiguousarray(self.interactions, dtype=np.int32)"
   ]
  },
  {
   "cell_type": "code",
   "execution_count": 45,
   "metadata": {},
   "outputs": [],
   "source": [
    "def get_data(obj):\n",
    "    if obj.__class__.__name__ in ('DataFrame', 'Series'):\n",
    "        data = obj.values\n",
    "    elif obj.__class__.__name__ == 'ndarray':\n",
    "        data = obj\n",
    "    else:\n",
    "        raise TypeError(\"input data must be in either pd.dataframe/pd.series or np.ndarray format\")\n",
    "    return data"
   ]
  }
 ],
 "metadata": {
  "kernelspec": {
   "display_name": "Python 3",
   "language": "python",
   "name": "python3"
  },
  "language_info": {
   "codemirror_mode": {
    "name": "ipython",
    "version": 3
   },
   "file_extension": ".py",
   "mimetype": "text/x-python",
   "name": "python",
   "nbconvert_exporter": "python",
   "pygments_lexer": "ipython3",
   "version": "3.12.0"
  }
 },
 "nbformat": 4,
 "nbformat_minor": 2
}
